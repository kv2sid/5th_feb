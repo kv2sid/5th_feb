{
 "cells": [
  {
   "cell_type": "markdown",
   "id": "47cf8257-ba93-4e6b-9607-d8271a8df5c3",
   "metadata": {},
   "source": [
    "Q1. Explain Class and Object with respect to Object-Oriented Programming. Give a suitable example.\n",
    "Answer = An object is simply a collection of data (variables) and methods (functions). Similarly, a class is a blueprint for that object."
   ]
  },
  {
   "cell_type": "code",
   "execution_count": 7,
   "id": "9230ce15-9360-47f8-a4cd-34242efc5610",
   "metadata": {},
   "outputs": [
    {
     "name": "stdout",
     "output_type": "stream",
     "text": [
      "name : Mahindra Thar ,colour: Black\n"
     ]
    }
   ],
   "source": [
    "## example of Object oriented programing\n",
    "## create class\n",
    "class car:\n",
    "    name = ''\n",
    "    colour = ''\n",
    "## create object\n",
    "car1 = car()\n",
    "## modify the name and colour of the attribute\n",
    "car1.name = 'Mahindra Thar'\n",
    "car1.colour = 'Black'\n",
    "\n",
    "print('name :', (car1.name),',colour:', (car1.colour))"
   ]
  },
  {
   "cell_type": "markdown",
   "id": "6096a9b9-cf80-44c3-bb50-63cd30e0e710",
   "metadata": {},
   "source": [
    "Q2. Name the four pillar of OOPs.\n",
    "\n",
    "Answer = The four pillars of object-oriented programming are:\n",
    "1.Abstraction\n",
    "2.Encapsulation\n",
    "3.Inheritance\n",
    "4.Polymorphism"
   ]
  },
  {
   "cell_type": "markdown",
   "id": "ffde51dc-8105-4cc0-af57-2e92acb98eb1",
   "metadata": {},
   "source": [
    "Q3. Explain why the __init__() function is used. Give a suitable example.\n",
    "\n",
    "Answer = \"__init__\" is a reseved method in python classes. It is called as a constructor in object oriented terminology. This method is called when an object is created from a class and it allows the class to initialize the attributes of the class."
   ]
  },
  {
   "cell_type": "code",
   "execution_count": 3,
   "id": "221a5bd1-4876-498c-a735-6fa3732570d3",
   "metadata": {},
   "outputs": [],
   "source": [
    "## Example of __init__ function \n",
    "class wild_animal:\n",
    "    def __init__(sidd, name, food):\n",
    "        sidd.name = name\n",
    "        sidd.food = name + ' eat ' + food\n",
    "    def return_wild_animal(self):\n",
    "        return sidd.name, self.food\n",
    "    "
   ]
  },
  {
   "cell_type": "code",
   "execution_count": 6,
   "id": "1c54caf2-176f-49dd-8360-675e9d49cff0",
   "metadata": {},
   "outputs": [],
   "source": [
    "lion = wild_animal( 'Lion' , 'deer')"
   ]
  },
  {
   "cell_type": "code",
   "execution_count": 7,
   "id": "35727bae-17e1-46d4-9fcb-05d8c485c6b1",
   "metadata": {},
   "outputs": [
    {
     "data": {
      "text/plain": [
       "'Lion'"
      ]
     },
     "execution_count": 7,
     "metadata": {},
     "output_type": "execute_result"
    }
   ],
   "source": [
    "lion.name"
   ]
  },
  {
   "cell_type": "code",
   "execution_count": 8,
   "id": "8c724e51-ce8a-4a63-84c7-b662a5e89f88",
   "metadata": {},
   "outputs": [
    {
     "data": {
      "text/plain": [
       "'Lion eat deer'"
      ]
     },
     "execution_count": 8,
     "metadata": {},
     "output_type": "execute_result"
    }
   ],
   "source": [
    "lion.food"
   ]
  },
  {
   "cell_type": "markdown",
   "id": "8eb0188d-5fa3-4079-8e1a-bebdabff6067",
   "metadata": {},
   "source": [
    "Q5. What is inheritance? Give an example for each type of inheritance.\n",
    "\n",
    "Answer = Inheritance allows us to define a class that inherits all the methods and properties from another class. "
   ]
  },
  {
   "cell_type": "code",
   "execution_count": 21,
   "id": "9e9ace55-04b0-49bd-8c04-b9a032da5e52",
   "metadata": {},
   "outputs": [],
   "source": [
    "## Example of type of Inheritance.\n",
    "\n",
    "class wild_animal:\n",
    "    def __init__(sidd, name, food):\n",
    "        sidd.name = name\n",
    "        sidd.food = name + ' eat ' + food\n",
    "    def return_wild_animal(self):\n",
    "        return sidd.name, self.food\n",
    "\n",
    "class wild_cats(wild_animal):\n",
    "    def display(self):\n",
    "        print('Lion is a wild cat animal')\n"
   ]
  },
  {
   "cell_type": "code",
   "execution_count": 32,
   "id": "a57184a2-67e3-4530-b9c4-670ec4cc6b48",
   "metadata": {},
   "outputs": [],
   "source": [
    "cheetah = wild_cats('cheetah', 'deer')"
   ]
  },
  {
   "cell_type": "code",
   "execution_count": 33,
   "id": "d6498b61-212a-4c72-ac3e-6eca3ca81ebd",
   "metadata": {},
   "outputs": [
    {
     "data": {
      "text/plain": [
       "'cheetah'"
      ]
     },
     "execution_count": 33,
     "metadata": {},
     "output_type": "execute_result"
    }
   ],
   "source": [
    "cheetah.name"
   ]
  },
  {
   "cell_type": "code",
   "execution_count": 34,
   "id": "c9e45989-9e5e-45f7-bdd4-e20e9deceedd",
   "metadata": {},
   "outputs": [
    {
     "data": {
      "text/plain": [
       "'cheetah eat deer'"
      ]
     },
     "execution_count": 34,
     "metadata": {},
     "output_type": "execute_result"
    }
   ],
   "source": [
    "cheetah.food"
   ]
  },
  {
   "cell_type": "code",
   "execution_count": 37,
   "id": "dbbc7f15-3074-4e8d-829b-1c6029e6f5ff",
   "metadata": {},
   "outputs": [
    {
     "name": "stdout",
     "output_type": "stream",
     "text": [
      "<class '__main__.wild_cats'>\n"
     ]
    }
   ],
   "source": [
    "print(type(cheetah))"
   ]
  },
  {
   "cell_type": "code",
   "execution_count": 36,
   "id": "a129b139-2611-4195-b3e9-333e325fe952",
   "metadata": {},
   "outputs": [
    {
     "name": "stdout",
     "output_type": "stream",
     "text": [
      "<__main__.wild_cats object at 0x7fd8e9ff6ce0>\n"
     ]
    }
   ],
   "source": []
  },
  {
   "cell_type": "code",
   "execution_count": null,
   "id": "afb3f255-eb72-4e48-8c99-ce8ec38dab77",
   "metadata": {},
   "outputs": [],
   "source": []
  },
  {
   "cell_type": "code",
   "execution_count": null,
   "id": "07f97705-e9d9-43e9-9584-1c9c4eacfd83",
   "metadata": {},
   "outputs": [],
   "source": []
  },
  {
   "cell_type": "code",
   "execution_count": null,
   "id": "53aa82b6-6fe5-430b-afe5-ea545e0e60b5",
   "metadata": {},
   "outputs": [],
   "source": []
  },
  {
   "cell_type": "code",
   "execution_count": null,
   "id": "aabe1299-d799-4935-afbb-6bcdad04b7aa",
   "metadata": {},
   "outputs": [],
   "source": []
  },
  {
   "cell_type": "code",
   "execution_count": null,
   "id": "8105d7f1-a68c-43fc-bd3c-47c9204210d5",
   "metadata": {},
   "outputs": [],
   "source": []
  },
  {
   "cell_type": "code",
   "execution_count": null,
   "id": "4a5caad7-b64d-4c2b-9e5e-f18578f27473",
   "metadata": {},
   "outputs": [],
   "source": []
  },
  {
   "cell_type": "code",
   "execution_count": null,
   "id": "84e1365d-8d16-494e-be08-cf5e66860bb5",
   "metadata": {},
   "outputs": [],
   "source": []
  },
  {
   "cell_type": "code",
   "execution_count": null,
   "id": "103a734d-0aeb-4006-b3c7-789b1c6cf878",
   "metadata": {},
   "outputs": [],
   "source": []
  },
  {
   "cell_type": "code",
   "execution_count": null,
   "id": "10aa2cf7-42f5-4690-a2c1-b33ab5ebaf51",
   "metadata": {},
   "outputs": [],
   "source": []
  },
  {
   "cell_type": "code",
   "execution_count": null,
   "id": "645a2b5a-929a-4382-9d59-1f51ec3b74c7",
   "metadata": {},
   "outputs": [],
   "source": []
  },
  {
   "cell_type": "code",
   "execution_count": null,
   "id": "5c172bd4-d955-4481-99bd-aeae78b39211",
   "metadata": {},
   "outputs": [],
   "source": []
  },
  {
   "cell_type": "code",
   "execution_count": null,
   "id": "3ba43a32-ded0-4ed0-a184-00c45a7bf377",
   "metadata": {},
   "outputs": [],
   "source": []
  },
  {
   "cell_type": "code",
   "execution_count": null,
   "id": "f7db793f-5e1f-4b35-8ada-f783a2c2a417",
   "metadata": {},
   "outputs": [],
   "source": []
  },
  {
   "cell_type": "code",
   "execution_count": null,
   "id": "6629c75c-c3ca-4b4d-8e1d-edec99bd7a03",
   "metadata": {},
   "outputs": [],
   "source": []
  },
  {
   "cell_type": "code",
   "execution_count": null,
   "id": "ee033a56-fc6b-4797-aa71-8dc99b7cd054",
   "metadata": {},
   "outputs": [],
   "source": []
  },
  {
   "cell_type": "code",
   "execution_count": null,
   "id": "b7438e0e-8dc8-413f-a045-d9f833b46c0c",
   "metadata": {},
   "outputs": [],
   "source": []
  },
  {
   "cell_type": "code",
   "execution_count": null,
   "id": "835a732b-3c82-4b15-b677-4f8c18ad46f0",
   "metadata": {},
   "outputs": [],
   "source": []
  },
  {
   "cell_type": "code",
   "execution_count": null,
   "id": "61bf4133-0620-43a4-8ab3-a1b0d6dc0d9f",
   "metadata": {},
   "outputs": [],
   "source": []
  },
  {
   "cell_type": "code",
   "execution_count": null,
   "id": "f84c7626-84b3-48ce-a017-f36134ae54b9",
   "metadata": {},
   "outputs": [],
   "source": []
  },
  {
   "cell_type": "code",
   "execution_count": null,
   "id": "7061b161-99a2-4529-bdc5-291269bfb251",
   "metadata": {},
   "outputs": [],
   "source": []
  },
  {
   "cell_type": "code",
   "execution_count": null,
   "id": "f9e26fb8-98e2-42d5-af07-256f822c80b0",
   "metadata": {},
   "outputs": [],
   "source": []
  },
  {
   "cell_type": "code",
   "execution_count": null,
   "id": "f8910a9f-7d8a-45b8-858c-4f5f6f47ecab",
   "metadata": {},
   "outputs": [],
   "source": []
  }
 ],
 "metadata": {
  "kernelspec": {
   "display_name": "Python 3 (ipykernel)",
   "language": "python",
   "name": "python3"
  },
  "language_info": {
   "codemirror_mode": {
    "name": "ipython",
    "version": 3
   },
   "file_extension": ".py",
   "mimetype": "text/x-python",
   "name": "python",
   "nbconvert_exporter": "python",
   "pygments_lexer": "ipython3",
   "version": "3.10.8"
  }
 },
 "nbformat": 4,
 "nbformat_minor": 5
}
